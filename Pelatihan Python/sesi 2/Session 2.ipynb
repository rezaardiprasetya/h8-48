{
 "cells": [
  {
   "cell_type": "code",
   "execution_count": 2,
   "metadata": {},
   "outputs": [
    {
     "name": "stdout",
     "output_type": "stream",
     "text": [
      "yes\n",
      "yes\n",
      "yes\n"
     ]
    }
   ],
   "source": [
    "x = 0\n",
    "y = 5\n",
    "\n",
    "if x < y:                            # Truthy\n",
    "    print('yes')\n",
    "\n",
    "if y < x:                            # Falsy\n",
    "    print('yes')\n",
    "\n",
    "if x:                                # Falsy\n",
    "    print('yes')\n",
    "\n",
    "if y:                                # Truthy\n",
    "    print('yes')\n",
    "\n",
    "if 'aul' in 'grault':                # Truthy\n",
    "    print('yes')\n",
    "\n",
    "if 'quux' in ['foo', 'bar', 'baz']:  # Falsy\n",
    "    print('yes')"
   ]
  },
  {
   "cell_type": "code",
   "execution_count": 3,
   "metadata": {},
   "outputs": [
    {
     "name": "stdout",
     "output_type": "stream",
     "text": [
      "1\n"
     ]
    }
   ],
   "source": [
    "a=1\n",
    "b=2\n",
    "print(a)"
   ]
  },
  {
   "cell_type": "code",
   "execution_count": 4,
   "metadata": {},
   "outputs": [],
   "source": [
    "if a==b:\n",
    "    print (\" not equals B\")\n",
    "    "
   ]
  },
  {
   "cell_type": "code",
   "execution_count": 6,
   "metadata": {},
   "outputs": [
    {
     "name": "stdout",
     "output_type": "stream",
     "text": [
      "Expression was true\n",
      "Executing statement in suite\n",
      "...\n",
      "Done.\n",
      "After conditional\n"
     ]
    }
   ],
   "source": [
    "if 'bar' in ['bar', 'baz', 'qux']:\n",
    "    print('Expression was true')\n",
    "    print('Executing statement in suite')\n",
    "    print('...')\n",
    "    print('Done.')\n",
    "    \n",
    "print('After conditional')"
   ]
  },
  {
   "cell_type": "code",
   "execution_count": 9,
   "metadata": {},
   "outputs": [
    {
     "name": "stdout",
     "output_type": "stream",
     "text": [
      "Outer condition is true\n",
      "Between inner conditions\n",
      "Inner condition 2\n",
      "End of outer condition\n",
      "After outer condition\n"
     ]
    }
   ],
   "source": [
    "if 'foo' in ['foo', 'bar', 'baz']:        #  x\n",
    "    print('Outer condition is true')      #  x\n",
    "\n",
    "    if 10 > 20:                           #  x\n",
    "        print('Inner condition 1')        #        x\n",
    "\n",
    "    print('Between inner conditions')     #  x\n",
    "\n",
    "    if 10 < 20:                           #  x\n",
    "        print('Inner condition 2')        #  x\n",
    "\n",
    "    print('End of outer condition')       #  x\n",
    "print('After outer condition')            #  x"
   ]
  },
  {
   "cell_type": "code",
   "execution_count": 16,
   "metadata": {},
   "outputs": [
    {
     "name": "stdout",
     "output_type": "stream",
     "text": [
      "What is your name reza\n",
      "hellorezaWelcome to this course\n"
     ]
    }
   ],
   "source": [
    "name = input (\"What is your name \")\n",
    "print ('hello'  +name+  \"Welcome to this course\")"
   ]
  },
  {
   "cell_type": "code",
   "execution_count": 13,
   "metadata": {},
   "outputs": [
    {
     "name": "stdout",
     "output_type": "stream",
     "text": [
      "(second suite)\n",
      "x is large\n"
     ]
    }
   ],
   "source": [
    "x = 100\n",
    "\n",
    "if x < 50:\n",
    "    print('(first suite)')\n",
    "    print('x is small')\n",
    "else:\n",
    "    print('(second suite)')\n",
    "    print('x is large')\n"
   ]
  },
  {
   "cell_type": "code",
   "execution_count": 24,
   "metadata": {},
   "outputs": [
    {
     "name": "stdout",
     "output_type": "stream",
     "text": [
      "beli majalah\n"
     ]
    }
   ],
   "source": [
    "hargaBuku = 20000\n",
    "hargaMajalah = 5000\n",
    "hargakoran = 6000\n",
    "uang = 12000\n",
    "\n",
    "if uang > hargaBuku:\n",
    "    print(\"beli buku\")\n",
    "elif uang > hargaMajalah:\n",
    "    print(\"beli majalah\")\n",
    "elif uang > hargakoran:\n",
    "    print(\"beli koran\")\n",
    "else:\n",
    "    print(\"uang tidak cukup\")"
   ]
  },
  {
   "cell_type": "code",
   "execution_count": 27,
   "metadata": {},
   "outputs": [
    {
     "name": "stdout",
     "output_type": "stream",
     "text": [
      "9\n",
      "8\n",
      "7\n",
      "6\n",
      "5\n",
      "4\n",
      "3\n",
      "2\n",
      "1\n",
      "0\n"
     ]
    }
   ],
   "source": [
    "n = 10\n",
    "while n > 0:\n",
    "    n = n-1\n",
    "    #n -= 1 \n",
    "    print(n)"
   ]
  },
  {
   "cell_type": "code",
   "execution_count": 28,
   "metadata": {},
   "outputs": [
    {
     "name": "stdout",
     "output_type": "stream",
     "text": [
      "4\n",
      "3\n",
      "Loop ended.\n"
     ]
    }
   ],
   "source": [
    "n = 5\n",
    "while n > 0:\n",
    "    n -= 1\n",
    "    if n == 2:\n",
    "        break # Break Statement\n",
    "    print(n)\n",
    "print('Loop ended.')"
   ]
  },
  {
   "cell_type": "code",
   "execution_count": 30,
   "metadata": {},
   "outputs": [
    {
     "name": "stdout",
     "output_type": "stream",
     "text": [
      "N:>>10\n",
      "M:>>5\n",
      "M:>>4\n",
      "M:>>3\n",
      "M:>>2\n",
      "M:>>1\n",
      "N:>>9\n",
      "M:>>0\n",
      "M:>>-1\n",
      "M:>>-2\n",
      "M:>>-3\n",
      "M:>>-4\n",
      "N:>>8\n",
      "M:>>-5\n",
      "M:>>-6\n",
      "M:>>-7\n",
      "M:>>-8\n",
      "M:>>-9\n",
      "N:>>7\n",
      "M:>>-10\n",
      "M:>>-11\n",
      "M:>>-12\n",
      "M:>>-13\n",
      "M:>>-14\n",
      "N:>>6\n",
      "M:>>-15\n",
      "M:>>-16\n",
      "M:>>-17\n",
      "M:>>-18\n",
      "M:>>-19\n",
      "N:>>5\n",
      "M:>>-20\n",
      "M:>>-21\n",
      "M:>>-22\n",
      "M:>>-23\n",
      "M:>>-24\n",
      "N:>>4\n",
      "M:>>-25\n",
      "M:>>-26\n",
      "M:>>-27\n",
      "M:>>-28\n",
      "M:>>-29\n",
      "N:>>3\n",
      "M:>>-30\n",
      "M:>>-31\n",
      "M:>>-32\n",
      "M:>>-33\n",
      "M:>>-34\n",
      "N:>>2\n",
      "M:>>-35\n",
      "M:>>-36\n",
      "M:>>-37\n",
      "M:>>-38\n",
      "M:>>-39\n",
      "N:>>1\n",
      "M:>>-40\n",
      "M:>>-41\n",
      "M:>>-42\n",
      "M:>>-43\n",
      "M:>>-44\n"
     ]
    }
   ],
   "source": [
    "n=10\n",
    "m=5\n",
    "for i in range (10):\n",
    "    print (\"N:>>\"+str(n))\n",
    "    n = n-1\n",
    "    for b in range (5):\n",
    "        print(\"M:>>\"+ str(m))\n",
    "        m=m-1"
   ]
  },
  {
   "cell_type": "code",
   "execution_count": 39,
   "metadata": {},
   "outputs": [
    {
     "name": "stdout",
     "output_type": "stream",
     "text": [
      "What is your number 9\n",
      "ganjil\n"
     ]
    }
   ],
   "source": [
    "number = int(input (\"What is your number \"))\n",
    "\n",
    "if number %2==0:\n",
    "    print (\"genap\")\n",
    "else:\n",
    "    print (\"ganjil\")"
   ]
  },
  {
   "cell_type": "code",
   "execution_count": 42,
   "metadata": {},
   "outputs": [
    {
     "name": "stdout",
     "output_type": "stream",
     "text": [
      "4\n",
      "2\n",
      "1\n"
     ]
    }
   ],
   "source": [
    "\n",
    "x = 5\n",
    "y = 1\n",
    "while x > y:\n",
    "    x -= 1\n",
    "    if x == 3:\n",
    "        continue\n",
    "    print(x)"
   ]
  },
  {
   "cell_type": "code",
   "execution_count": 46,
   "metadata": {},
   "outputs": [
    {
     "name": "stdout",
     "output_type": "stream",
     "text": [
      "1\n",
      "2\n",
      "4\n"
     ]
    }
   ],
   "source": [
    "x=8\n",
    "for y in range (1,x):\n",
    "    if (x%y)==0:\n",
    "        print(y)"
   ]
  },
  {
   "cell_type": "code",
   "execution_count": 49,
   "metadata": {},
   "outputs": [
    {
     "name": "stdout",
     "output_type": "stream",
     "text": [
      "input angka8\n",
      "1\n",
      "2\n",
      "4\n"
     ]
    }
   ],
   "source": [
    "x = int (input(\"input angka\"))\n",
    "\n",
    "for i in range (1,x):\n",
    "    if x%i==0:\n",
    "        print(i)"
   ]
  },
  {
   "cell_type": "code",
   "execution_count": 50,
   "metadata": {},
   "outputs": [
    {
     "name": "stdout",
     "output_type": "stream",
     "text": [
      "Put your number : 75\n",
      "B+\n"
     ]
    }
   ],
   "source": [
    "num = int (input(\"Put your number : \"))\n",
    "if num>= 85:\n",
    "    print (\"A\")\n",
    "elif num <85 and num>=80:\n",
    "    print (\"A-\")\n",
    "elif num <80 and num>=75:\n",
    "    print (\"B+\")\n",
    "elif num <75 and num>=70:\n",
    "    print (\"B\")\n",
    "elif num <70 and num>=65:\n",
    "    print (\"B-\")\n",
    "elif num <65 and num>=60:\n",
    "    print (\"C+\")\n",
    "elif num <60 and num>=55:\n",
    "    print (\"C\")\n",
    "elif num <55 and num>=50:\n",
    "    print (\"C-\")\n",
    "elif num <50 and num>=45:\n",
    "    print (\"D\")\n",
    "else:\n",
    "    print (\"E\")\n"
   ]
  },
  {
   "cell_type": "code",
   "execution_count": 64,
   "metadata": {},
   "outputs": [
    {
     "data": {
      "text/plain": [
       "5"
      ]
     },
     "execution_count": 64,
     "metadata": {},
     "output_type": "execute_result"
    }
   ],
   "source": [
    "from random import randint\n",
    "randint(1,9)"
   ]
  },
  {
   "cell_type": "code",
   "execution_count": 71,
   "metadata": {},
   "outputs": [
    {
     "name": "stdout",
     "output_type": "stream",
     "text": [
      "guess the number5\n",
      "too low\n",
      "guess the number6\n",
      "too low\n",
      "guess the number2\n",
      "too low\n",
      "guess the number1\n",
      "too low\n",
      "guess the number9\n",
      "got it\n",
      "9\n"
     ]
    }
   ],
   "source": [
    "\n",
    "from random import randint\n",
    "tebakan = randint(1,9)\n",
    "\n",
    "looping = True\n",
    "while (looping):\n",
    "    guess_num=int (input(\"guess the number\"))\n",
    "    if (guess_num<tebakan):\n",
    "        print('too low')\n",
    "    elif (guess_num>tebakan):\n",
    "        print('too high')\n",
    "    else:\n",
    "        print ('got it')\n",
    "        looping = False\n",
    "            \n",
    "print(tebakan)\n",
    "\n"
   ]
  },
  {
   "cell_type": "code",
   "execution_count": 70,
   "metadata": {},
   "outputs": [
    {
     "ename": "SyntaxError",
     "evalue": "invalid syntax (<ipython-input-70-d5a7f7c7a3b0>, line 3)",
     "output_type": "error",
     "traceback": [
      "\u001b[1;36m  File \u001b[1;32m\"<ipython-input-70-d5a7f7c7a3b0>\"\u001b[1;36m, line \u001b[1;32m3\u001b[0m\n\u001b[1;33m    if cek > tebakan\u001b[0m\n\u001b[1;37m                    ^\u001b[0m\n\u001b[1;31mSyntaxError\u001b[0m\u001b[1;31m:\u001b[0m invalid syntax\n"
     ]
    }
   ],
   "source": [
    "while true:\n",
    "    cek= int(input(\"input your number:\"))\n",
    "    if cek > tebakan"
   ]
  },
  {
   "cell_type": "code",
   "execution_count": null,
   "metadata": {},
   "outputs": [],
   "source": []
  }
 ],
 "metadata": {
  "kernelspec": {
   "display_name": "Python 3",
   "language": "python",
   "name": "python3"
  },
  "language_info": {
   "codemirror_mode": {
    "name": "ipython",
    "version": 3
   },
   "file_extension": ".py",
   "mimetype": "text/x-python",
   "name": "python",
   "nbconvert_exporter": "python",
   "pygments_lexer": "ipython3",
   "version": "3.8.5"
  }
 },
 "nbformat": 4,
 "nbformat_minor": 4
}
